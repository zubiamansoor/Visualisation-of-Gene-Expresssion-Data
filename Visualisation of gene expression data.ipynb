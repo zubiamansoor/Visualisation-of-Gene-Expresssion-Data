{
 "cells": [
  {
   "cell_type": "code",
   "execution_count": 5,
   "metadata": {},
   "outputs": [],
   "source": [
    "library(GEOquery) \n",
    "library(tidyverse)\n",
    "library(stringr)\n",
    "library(shiny)"
   ]
  },
  {
   "cell_type": "code",
   "execution_count": 6,
   "metadata": {},
   "outputs": [
    {
     "name": "stderr",
     "output_type": "stream",
     "text": [
      "Found 1 file(s)\n",
      "\n",
      "GSE21935_series_matrix.txt.gz\n",
      "\n",
      "Using locally cached version: /var/folders/gl/9vxj9q9x0f1b0427vj5rbynm0000gn/T//Rtmp6a5a4Z/GSE21935_series_matrix.txt.gz\n",
      "\n",
      "Parsed with column specification:\n",
      "cols(\n",
      "  .default = col_double(),\n",
      "  ID_REF = \u001b[31mcol_character()\u001b[39m\n",
      ")\n",
      "\n",
      "See spec(...) for full column specifications.\n",
      "\n",
      "Using locally cached version of GPL570 found here:\n",
      "/var/folders/gl/9vxj9q9x0f1b0427vj5rbynm0000gn/T//Rtmp6a5a4Z/GPL570.soft \n",
      "\n",
      "Warning message:\n",
      "“62 parsing failures.\n",
      "  row     col           expected    actual         file\n",
      "54614 SPOT_ID 1/0/T/F/TRUE/FALSE --Control literal data\n",
      "54615 SPOT_ID 1/0/T/F/TRUE/FALSE --Control literal data\n",
      "54616 SPOT_ID 1/0/T/F/TRUE/FALSE --Control literal data\n",
      "54617 SPOT_ID 1/0/T/F/TRUE/FALSE --Control literal data\n",
      "54618 SPOT_ID 1/0/T/F/TRUE/FALSE --Control literal data\n",
      "..... ....... .................. ......... ............\n",
      "See problems(...) for more details.\n",
      "”\n"
     ]
    }
   ],
   "source": [
    "all_data = getGEO(\"GSE21935\") \n",
    "all_data = all_data$GSE21935_series_matrix.txt.gz \n",
    "\n",
    "pheno = all_data@phenoData@data \n",
    "assay = assayDataElement(all_data@assayData, 'exprs') "
   ]
  },
  {
   "cell_type": "code",
   "execution_count": 7,
   "metadata": {},
   "outputs": [],
   "source": [
    "x <- as.data.frame(t(head(assay, 10))) \n",
    "\n",
    "\n",
    "# extract names of genes\n",
    "gene_names <- colnames(x)"
   ]
  },
  {
   "cell_type": "code",
   "execution_count": 8,
   "metadata": {},
   "outputs": [],
   "source": [
    "ui <- fluidPage(\n",
    "  # Application title\n",
    "  titlePanel(\"Visualisation of Gene expression data\"),\n",
    "  \n",
    "  # Sidebar layout with input and output definitions ---\n",
    "  sidebarLayout(\n",
    "    # Sidebar with a slider and selection inputs\n",
    "    sidebarPanel(\n",
    "      selectInput(\"selection\", \"Choose a gene:\",\n",
    "                  choices = gene_names),\n",
    "    ),\n",
    "    \n",
    "    # Main panel for displaying output\n",
    "    mainPanel(\n",
    "      # Output: Density plots\n",
    "      plotOutput(outputId = \"plot\")\n",
    "    )\n",
    "  )\n",
    ")\n"
   ]
  },
  {
   "cell_type": "code",
   "execution_count": 9,
   "metadata": {},
   "outputs": [],
   "source": [
    "y <-  rep(\"NA\", dim(x)[1])\n",
    "\n",
    "# creating a for loop to assign 0 to control and 1 to scz\n",
    "for (i in 1:(dim(x)[1])) {\n",
    "  if(pheno$characteristics_ch1.4[i]==\"disease state: control\"){\n",
    "    y[i] = 0\n",
    "  } else {\n",
    "    y[i] = 1\n",
    "  }  \n",
    "}"
   ]
  },
  {
   "cell_type": "code",
   "execution_count": 10,
   "metadata": {},
   "outputs": [],
   "source": [
    "# combining data from x and y so that it is easier to specify conditions\n",
    "z <- cbind(x,y)"
   ]
  },
  {
   "cell_type": "code",
   "execution_count": 11,
   "metadata": {},
   "outputs": [],
   "source": [
    "# Define server logic required to draw a wordcloud ----\n",
    "server <- function(input, output) {\n",
    "  \n",
    "  kde_plots <- function(selection){\n",
    "    gene_num <- grep(selection, gene_names)\n",
    "    kde_left <- density(z[z$y == \"0\",gene_num])\n",
    "    kde_right <- density(z[z$y == \"1\",gene_num])\n",
    "    return(list(kde_left,kde_right))\n",
    "  }\n",
    "  \n",
    "  output$plot <- renderPlot({\n",
    "    par(mfrow=c(2,1))\n",
    "    plot(kde_plots(input$selection)[[1]], main = \"Kernel density plot for control group\")\n",
    "    plot(kde_plots(input$selection)[[2]], main = \"Kernel density plot for schizophrenic group\")\n",
    "  })\n",
    "}"
   ]
  },
  {
   "cell_type": "code",
   "execution_count": null,
   "metadata": {},
   "outputs": [
    {
     "name": "stderr",
     "output_type": "stream",
     "text": [
      "\n",
      "Listening on http://127.0.0.1:3673\n",
      "\n"
     ]
    }
   ],
   "source": [
    "shinyApp(ui = ui, server = server)"
   ]
  },
  {
   "cell_type": "code",
   "execution_count": null,
   "metadata": {},
   "outputs": [],
   "source": []
  }
 ],
 "metadata": {
  "kernelspec": {
   "display_name": "R",
   "language": "R",
   "name": "ir"
  },
  "language_info": {
   "codemirror_mode": "r",
   "file_extension": ".r",
   "mimetype": "text/x-r-source",
   "name": "R",
   "pygments_lexer": "r",
   "version": "3.6.1"
  }
 },
 "nbformat": 4,
 "nbformat_minor": 4
}
